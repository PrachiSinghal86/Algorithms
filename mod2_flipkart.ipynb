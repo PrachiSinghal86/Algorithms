{
  "nbformat": 4,
  "nbformat_minor": 0,
  "metadata": {
    "colab": {
      "name": "mod2 flipkart.ipynb",
      "provenance": [],
      "authorship_tag": "ABX9TyN+xX3/ICO8jYd0m2HjKRFn",
      "include_colab_link": true
    },
    "kernelspec": {
      "name": "python3",
      "display_name": "Python 3"
    }
  },
  "cells": [
    {
      "cell_type": "markdown",
      "metadata": {
        "id": "view-in-github",
        "colab_type": "text"
      },
      "source": [
        "<a href=\"https://colab.research.google.com/github/PrachiSinghal86/Algorithms/blob/master/mod2_flipkart.ipynb\" target=\"_parent\"><img src=\"https://colab.research.google.com/assets/colab-badge.svg\" alt=\"Open In Colab\"/></a>"
      ]
    },
    {
      "cell_type": "code",
      "metadata": {
        "id": "JFpJ_cfOeUmV",
        "colab_type": "code",
        "colab": {
          "base_uri": "https://localhost:8080/",
          "height": 51
        },
        "outputId": "c7e22d4d-3737-40f0-a8f5-2ea020f6fdcd"
      },
      "source": [
        "s=input()\n",
        "l=[0]*26\n",
        "\n",
        "for i in range(len(s)):\n",
        "  l[ord(s[i])%97]+=1\n",
        "m=0\n",
        "for i in range(26):\n",
        "  if l[i]>m:\n",
        "    m=l[i]\n",
        "    p=ascii(l[i]+97)\n",
        "print(p) \n"
      ],
      "execution_count": 4,
      "outputs": [
        {
          "output_type": "stream",
          "text": [
            "asddd\n",
            "100\n"
          ],
          "name": "stdout"
        }
      ]
    },
    {
      "cell_type": "code",
      "metadata": {
        "id": "ekEszS0Ekh_D",
        "colab_type": "code",
        "colab": {}
      },
      "source": [
        ""
      ],
      "execution_count": 0,
      "outputs": []
    },
    {
      "cell_type": "code",
      "metadata": {
        "id": "aWRg4Ge8lQsg",
        "colab_type": "code",
        "colab": {
          "base_uri": "https://localhost:8080/",
          "height": 68
        },
        "outputId": "962f53ff-daf8-4dbb-c966-c018f3bacfca"
      },
      "source": [
        "#to find the pair of elements with a given sum\n",
        " a=list(map(int,input().split()))\n",
        " m=int(input())\n",
        " for i in range(len(a)):\n",
        "   d=m-a[i]\n",
        "   if a[i+1:].count(d)>0:\n",
        "     print(a[i],\" \",d)"
      ],
      "execution_count": 6,
      "outputs": [
        {
          "output_type": "stream",
          "text": [
            "1 4 5 7 8 9 -1\n",
            "15\n",
            "7   8\n"
          ],
          "name": "stdout"
        }
      ]
    },
    {
      "cell_type": "code",
      "metadata": {
        "id": "ykllt_Z4rwNy",
        "colab_type": "code",
        "colab": {
          "base_uri": "https://localhost:8080/",
          "height": 85
        },
        "outputId": "9ffc85cd-c351-40d6-aefa-cf0b17051e07"
      },
      "source": [
        "a=list(map(int,input().split()))\n",
        "s=[]\n",
        "p=0\n",
        "for i in range(len(a)):\n",
        "  p+=a[i]\n",
        "  if p==0:\n",
        "    print(0,\" \",i)\n",
        "  if s.count(p)>0:\n",
        "    for j in range(len(s)):\n",
        "      if s[j]==p:\n",
        "        print(j+1,\"  \",i)\n",
        "  s.append(p)\n",
        "\n",
        "\n",
        "  "
      ],
      "execution_count": 14,
      "outputs": [
        {
          "output_type": "stream",
          "text": [
            "1 -3 3 -4 4\n",
            "1    2\n",
            "1    4\n",
            "3    4\n"
          ],
          "name": "stdout"
        }
      ]
    },
    {
      "cell_type": "code",
      "metadata": {
        "id": "PcQ8BIgXzNLT",
        "colab_type": "code",
        "colab": {}
      },
      "source": [
        "\n"
      ],
      "execution_count": 0,
      "outputs": []
    }
  ]
}